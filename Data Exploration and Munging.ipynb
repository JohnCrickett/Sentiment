{
 "cells": [
  {
   "cell_type": "code",
   "execution_count": 1,
   "metadata": {
    "collapsed": true
   },
   "outputs": [],
   "source": [
    "import pandas as pd\n",
    "import numpy as np"
   ]
  },
  {
   "cell_type": "code",
   "execution_count": 2,
   "metadata": {
    "collapsed": true
   },
   "outputs": [],
   "source": [
    "data = pd.read_csv('./data/training_data.csv', encoding='latin1')"
   ]
  },
  {
   "cell_type": "code",
   "execution_count": 3,
   "metadata": {
    "collapsed": false
   },
   "outputs": [],
   "source": [
    "def is_not_text(text):\n",
    "    if isinstance(text, float):\n",
    "        return True\n",
    "    if len(text) <= 0:\n",
    "        return True\n",
    "    return False\n",
    "\n",
    "index = data['article_content'].index[data['article_content'].apply(is_not_text)]"
   ]
  },
  {
   "cell_type": "code",
   "execution_count": 4,
   "metadata": {
    "collapsed": false
   },
   "outputs": [
    {
     "data": {
      "text/plain": [
       "Int64Index([45090], dtype='int64')"
      ]
     },
     "execution_count": 4,
     "metadata": {},
     "output_type": "execute_result"
    }
   ],
   "source": [
    "index"
   ]
  },
  {
   "cell_type": "code",
   "execution_count": 5,
   "metadata": {
    "collapsed": false
   },
   "outputs": [
    {
     "data": {
      "text/plain": [
       "TIDM                             CTEC\n",
       "company_name       ConvaTec Group PLC\n",
       "article_id                   13061032\n",
       "article_content                   NaN\n",
       "cat_id                             59\n",
       "open_1                          22500\n",
       "high_1                          22700\n",
       "low_1                           21800\n",
       "close_1                         22500\n",
       "volume_1                  19260480000\n",
       "open_2                          22500\n",
       "high_2                          23061\n",
       "low_2                           22500\n",
       "close_2                         22900\n",
       "volume_2                   7.4403e+08\n",
       "open_3                          22900\n",
       "high_3                          24875\n",
       "low_3                           22850\n",
       "close_3                         24000\n",
       "volume_3                   4.4098e+08\n",
       "open_4                          24875\n",
       "high_4                          25075\n",
       "low_4                           23800\n",
       "close_4                         25000\n",
       "volume_4                   3.6777e+08\n",
       "open_5                          25975\n",
       "high_5                          25975\n",
       "low_5                           22734\n",
       "close_5                         24900\n",
       "volume_5                   3.9152e+08\n",
       "                          ...        \n",
       "open_30                           NaN\n",
       "high_30                           NaN\n",
       "low_30                            NaN\n",
       "close_30                          NaN\n",
       "volume_30                         NaN\n",
       "open_31                           NaN\n",
       "high_31                           NaN\n",
       "low_31                            NaN\n",
       "close_31                          NaN\n",
       "volume_31                         NaN\n",
       "open_32                           NaN\n",
       "high_32                           NaN\n",
       "low_32                            NaN\n",
       "close_32                          NaN\n",
       "volume_32                         NaN\n",
       "open_33                           NaN\n",
       "high_33                           NaN\n",
       "low_33                            NaN\n",
       "close_33                          NaN\n",
       "volume_33                         NaN\n",
       "open_34                           NaN\n",
       "high_34                           NaN\n",
       "low_34                            NaN\n",
       "close_34                          NaN\n",
       "volume_34                         NaN\n",
       "open_35                           NaN\n",
       "high_35                           NaN\n",
       "low_35                            NaN\n",
       "close_35                          NaN\n",
       "volume_35                         NaN\n",
       "Name: 45090, dtype: object"
      ]
     },
     "execution_count": 5,
     "metadata": {},
     "output_type": "execute_result"
    }
   ],
   "source": [
    "data.iloc[45090]"
   ]
  },
  {
   "cell_type": "code",
   "execution_count": 6,
   "metadata": {
    "collapsed": true
   },
   "outputs": [],
   "source": [
    "data.dropna(inplace=True)"
   ]
  },
  {
   "cell_type": "code",
   "execution_count": 7,
   "metadata": {
    "collapsed": false
   },
   "outputs": [],
   "source": [
    "index = data['article_content'].index[data['article_content'].apply(is_not_text)]"
   ]
  },
  {
   "cell_type": "code",
   "execution_count": 8,
   "metadata": {
    "collapsed": false
   },
   "outputs": [
    {
     "data": {
      "text/plain": [
       "Int64Index([], dtype='int64')"
      ]
     },
     "execution_count": 8,
     "metadata": {},
     "output_type": "execute_result"
    }
   ],
   "source": [
    "index"
   ]
  },
  {
   "cell_type": "code",
   "execution_count": 9,
   "metadata": {
    "collapsed": false
   },
   "outputs": [
    {
     "data": {
      "text/plain": [
       "43636"
      ]
     },
     "execution_count": 9,
     "metadata": {},
     "output_type": "execute_result"
    }
   ],
   "source": [
    "len(data)"
   ]
  },
  {
   "cell_type": "code",
   "execution_count": 13,
   "metadata": {
    "collapsed": false
   },
   "outputs": [],
   "source": [
    "data = data.query('cat_id not in [40, 41, 42, 43, 98, 168]')"
   ]
  },
  {
   "cell_type": "code",
   "execution_count": 14,
   "metadata": {
    "collapsed": false
   },
   "outputs": [
    {
     "data": {
      "text/plain": [
       "41912"
      ]
     },
     "execution_count": 14,
     "metadata": {},
     "output_type": "execute_result"
    }
   ],
   "source": [
    "len(data)"
   ]
  }
 ],
 "metadata": {
  "anaconda-cloud": {},
  "kernelspec": {
   "display_name": "Python [conda env:Py3ML]",
   "language": "python",
   "name": "conda-env-Py3ML-py"
  },
  "language_info": {
   "codemirror_mode": {
    "name": "ipython",
    "version": 3
   },
   "file_extension": ".py",
   "mimetype": "text/x-python",
   "name": "python",
   "nbconvert_exporter": "python",
   "pygments_lexer": "ipython3",
   "version": "3.5.2"
  }
 },
 "nbformat": 4,
 "nbformat_minor": 1
}
